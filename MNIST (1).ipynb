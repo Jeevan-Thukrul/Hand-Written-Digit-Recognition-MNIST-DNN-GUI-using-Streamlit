{
  "nbformat": 4,
  "nbformat_minor": 0,
  "metadata": {
    "colab": {
      "name": "MNIST.ipynb",
      "provenance": [],
      "collapsed_sections": []
    },
    "kernelspec": {
      "name": "python3",
      "display_name": "Python 3"
    }
  },
  "cells": [
    {
      "cell_type": "markdown",
      "metadata": {
        "id": "S0TwmJhSSNip",
        "colab_type": "text"
      },
      "source": [
        "# **MNIST**"
      ]
    },
    {
      "cell_type": "code",
      "metadata": {
        "id": "4EHvKLbawPfx",
        "colab_type": "code",
        "colab": {}
      },
      "source": [
        "from tensorflow.keras.datasets import mnist\n",
        "from matplotlib import pyplot as plt\n",
        "from tensorflow import keras\n",
        "import tensorflow.compat.v2 as tf\n",
        "from sklearn.model_selection import train_test_split\n",
        "from tensorflow.keras.utils import to_categorical as tcg\n",
        "from tensorflow.keras.models import Sequential\n",
        "from tensorflow.keras.layers import Dense, Flatten"
      ],
      "execution_count": 131,
      "outputs": []
    },
    {
      "cell_type": "code",
      "metadata": {
        "id": "SMrjszw7xZFw",
        "colab_type": "code",
        "colab": {}
      },
      "source": [
        "(xtr,ytr),(xte,yte)=mnist.load_data()"
      ],
      "execution_count": 132,
      "outputs": []
    },
    {
      "cell_type": "code",
      "metadata": {
        "id": "hjZkN-tH0rxh",
        "colab_type": "code",
        "colab": {
          "base_uri": "https://localhost:8080/",
          "height": 34
        },
        "outputId": "565fc73a-29d8-4664-bad4-26c653d843ea"
      },
      "source": [
        "xtr.shape"
      ],
      "execution_count": 133,
      "outputs": [
        {
          "output_type": "execute_result",
          "data": {
            "text/plain": [
              "(60000, 28, 28)"
            ]
          },
          "metadata": {
            "tags": []
          },
          "execution_count": 133
        }
      ]
    },
    {
      "cell_type": "code",
      "metadata": {
        "id": "4K1G54bHBx66",
        "colab_type": "code",
        "colab": {
          "base_uri": "https://localhost:8080/",
          "height": 282
        },
        "outputId": "b5745aee-3512-481c-9229-f6b0c27f3697"
      },
      "source": [
        "plt.imshow(xtr[99], cmap='gray')"
      ],
      "execution_count": 134,
      "outputs": [
        {
          "output_type": "execute_result",
          "data": {
            "text/plain": [
              "<matplotlib.image.AxesImage at 0x7fdf912b8a90>"
            ]
          },
          "metadata": {
            "tags": []
          },
          "execution_count": 134
        },
        {
          "output_type": "display_data",
          "data": {
            "image/png": "[encoded data removed]",
            "text/plain": [
              "<Figure size 432x288 with 1 Axes>"
            ]
          },
          "metadata": {
            "tags": [],
            "needs_background": "light"
          }
        }
      ]
    },
    {
      "cell_type": "code",
      "metadata": {
        "id": "P4NfYkwQDNA-",
        "colab_type": "code",
        "colab": {
          "base_uri": "https://localhost:8080/",
          "height": 34
        },
        "outputId": "25405b16-41e8-4ff2-de25-bc3f79730968"
      },
      "source": [
        "ytr[99]"
      ],
      "execution_count": 135,
      "outputs": [
        {
          "output_type": "execute_result",
          "data": {
            "text/plain": [
              "1"
            ]
          },
          "metadata": {
            "tags": []
          },
          "execution_count": 135
        }
      ]
    },
    {
      "cell_type": "code",
      "metadata": {
        "id": "-TRlMrFhxaHS",
        "colab_type": "code",
        "colab": {}
      },
      "source": [
        "# xte=xte.reshape(xte.shape[0],xte.shape[1],xte.shape[2],1).astype('float32')/255\n",
        "xtr=xtr.reshape(xtr.shape[0],xtr.shape[1],xtr.shape[2],1).astype('float32')/255"
      ],
      "execution_count": 136,
      "outputs": []
    },
    {
      "cell_type": "code",
      "metadata": {
        "id": "ZKJ7-AwK0q2w",
        "colab_type": "code",
        "colab": {}
      },
      "source": [
        "ytr=tcg(ytr)\n",
        "yte=tcg(yte)"
      ],
      "execution_count": 137,
      "outputs": []
    },
    {
      "cell_type": "code",
      "metadata": {
        "id": "488ekMPttqQP",
        "colab_type": "code",
        "colab": {}
      },
      "source": [
        "model = Sequential([\n",
        "  Flatten(input_shape=(28, 28, 1)),\n",
        "  Dense(256, activation='relu'),\n",
        "  Dense(128, activation='relu'),\n",
        "  Dense(64, activation='relu'),\n",
        "  Dense(10, activation='softmax'),\n",
        "])"
      ],
      "execution_count": 138,
      "outputs": []
    },
    {
      "cell_type": "code",
      "metadata": {
        "id": "Cwvo7vHlYfxh",
        "colab_type": "code",
        "colab": {}
      },
      "source": [
        "model.compile(loss='categorical_crossentropy',optimizer='adam', metrics=['accuracy'])"
      ],
      "execution_count": 139,
      "outputs": []
    },
    {
      "cell_type": "code",
      "metadata": {
        "id": "xufOKyQkYvTe",
        "colab_type": "code",
        "colab": {
          "base_uri": "https://localhost:8080/",
          "height": 454
        },
        "outputId": "962804bb-49fc-40fa-b7dd-a520edb9b866"
      },
      "source": [
        "history = model.fit(xtr,ytr, validation_data=(xte,yte),epochs=13, batch_size=256)"
      ],
      "execution_count": 140,
      "outputs": [
        {
          "output_type": "stream",
          "text": [
            "Epoch 1/13\n",
            "235/235 [==============================] - 2s 10ms/step - loss: 0.3432 - accuracy: 0.8996 - val_loss: 20.4474 - val_accuracy: 0.9562\n",
            "Epoch 2/13\n",
            "235/235 [==============================] - 2s 9ms/step - loss: 0.1234 - accuracy: 0.9635 - val_loss: 17.1065 - val_accuracy: 0.9657\n",
            "Epoch 3/13\n",
            "235/235 [==============================] - 2s 9ms/step - loss: 0.0802 - accuracy: 0.9755 - val_loss: 13.0988 - val_accuracy: 0.9753\n",
            "Epoch 4/13\n",
            "235/235 [==============================] - 2s 9ms/step - loss: 0.0574 - accuracy: 0.9826 - val_loss: 13.7645 - val_accuracy: 0.9760\n",
            "Epoch 5/13\n",
            "235/235 [==============================] - 2s 9ms/step - loss: 0.0443 - accuracy: 0.9866 - val_loss: 14.9327 - val_accuracy: 0.9727\n",
            "Epoch 6/13\n",
            "235/235 [==============================] - 2s 9ms/step - loss: 0.0330 - accuracy: 0.9897 - val_loss: 14.4904 - val_accuracy: 0.9775\n",
            "Epoch 7/13\n",
            "235/235 [==============================] - 2s 9ms/step - loss: 0.0248 - accuracy: 0.9924 - val_loss: 14.5349 - val_accuracy: 0.9780\n",
            "Epoch 8/13\n",
            "235/235 [==============================] - 2s 9ms/step - loss: 0.0202 - accuracy: 0.9934 - val_loss: 16.7232 - val_accuracy: 0.9773\n",
            "Epoch 9/13\n",
            "235/235 [==============================] - 2s 9ms/step - loss: 0.0153 - accuracy: 0.9952 - val_loss: 19.0991 - val_accuracy: 0.9765\n",
            "Epoch 10/13\n",
            "235/235 [==============================] - 2s 9ms/step - loss: 0.0128 - accuracy: 0.9959 - val_loss: 19.4125 - val_accuracy: 0.9766\n",
            "Epoch 11/13\n",
            "235/235 [==============================] - 2s 9ms/step - loss: 0.0122 - accuracy: 0.9964 - val_loss: 18.0001 - val_accuracy: 0.9767\n",
            "Epoch 12/13\n",
            "235/235 [==============================] - 2s 9ms/step - loss: 0.0113 - accuracy: 0.9962 - val_loss: 21.7551 - val_accuracy: 0.9736\n",
            "Epoch 13/13\n",
            "235/235 [==============================] - 2s 9ms/step - loss: 0.0103 - accuracy: 0.9967 - val_loss: 19.9991 - val_accuracy: 0.9779\n"
          ],
          "name": "stdout"
        }
      ]
    },
    {
      "cell_type": "code",
      "metadata": {
        "id": "EInMzdXLd5o8",
        "colab_type": "code",
        "colab": {
          "base_uri": "https://localhost:8080/",
          "height": 50
        },
        "outputId": "adce82e3-073b-49b5-cfd6-deb07601956d"
      },
      "source": [
        "model.evaluate(xtr,ytr)"
      ],
      "execution_count": 141,
      "outputs": [
        {
          "output_type": "stream",
          "text": [
            "1875/1875 [==============================] - 3s 2ms/step - loss: 0.0076 - accuracy: 0.9977\n"
          ],
          "name": "stdout"
        },
        {
          "output_type": "execute_result",
          "data": {
            "text/plain": [
              "[0.00761139951646328, 0.9976999759674072]"
            ]
          },
          "metadata": {
            "tags": []
          },
          "execution_count": 141
        }
      ]
    },
    {
      "cell_type": "code",
      "metadata": {
        "id": "NX3dcCLwOTP4",
        "colab_type": "code",
        "colab": {
          "base_uri": "https://localhost:8080/",
          "height": 34
        },
        "outputId": "56c599d5-6de8-43f5-e9e5-f52b43f24fd6"
      },
      "source": [
        "score = model.evaluate(xte,yte)"
      ],
      "execution_count": 142,
      "outputs": [
        {
          "output_type": "stream",
          "text": [
            "313/313 [==============================] - 0s 1ms/step - loss: 19.9991 - accuracy: 0.9779\n"
          ],
          "name": "stdout"
        }
      ]
    },
    {
      "cell_type": "code",
      "metadata": {
        "id": "SHmlsgxbA_Bk",
        "colab_type": "code",
        "colab": {
          "base_uri": "https://localhost:8080/",
          "height": 50
        },
        "outputId": "5d8337e4-5b16-47d4-daf2-bd601044e12a"
      },
      "source": [
        "print('Test loss:', score[0])\n",
        "print('Test accuracy:', score[1])"
      ],
      "execution_count": 143,
      "outputs": [
        {
          "output_type": "stream",
          "text": [
            "Test loss: 19.99909782409668\n",
            "Test accuracy: 0.9779000282287598\n"
          ],
          "name": "stdout"
        }
      ]
    },
    {
      "cell_type": "code",
      "metadata": {
        "id": "EGHODHTGBUyv",
        "colab_type": "code",
        "colab": {
          "base_uri": "https://localhost:8080/",
          "height": 295
        },
        "outputId": "dd55cd51-745c-410f-f37f-f5cea187c4e5"
      },
      "source": [
        "plt.plot(history.history['accuracy'])\n",
        "plt.plot(history.history['val_accuracy'])\n",
        "plt.title('model accuracy')\n",
        "plt.ylabel('accuracy')\n",
        "plt.xlabel('epoch')\n",
        "plt.legend(['train', 'test'], loc='upper left')\n",
        "plt.show()"
      ],
      "execution_count": 144,
      "outputs": [
        {
          "output_type": "display_data",
          "data": {
            "image/png": "[encoded data removed]",
            "text/plain": [
              "<Figure size 432x288 with 1 Axes>"
            ]
          },
          "metadata": {
            "tags": [],
            "needs_background": "light"
          }
        }
      ]
    },
    {
      "cell_type": "code",
      "metadata": {
        "id": "WyN_Wd31kLKS",
        "colab_type": "code",
        "colab": {
          "base_uri": "https://localhost:8080/",
          "height": 295
        },
        "outputId": "dc7f462e-bbce-413f-9cbe-07689434d910"
      },
      "source": [
        "plt.plot(history.history['loss'])\n",
        "plt.plot(history.history['val_loss'])\n",
        "plt.title('model loss')\n",
        "plt.ylabel('loss')\n",
        "plt.xlabel('epoch')\n",
        "plt.legend(['train', 'test'], loc='upper left')\n",
        "plt.show()"
      ],
      "execution_count": 145,
      "outputs": [
        {
          "output_type": "display_data",
          "data": {
            "image/png": "[encoded data removed]",
            "text/plain": [
              "<Figure size 432x288 with 1 Axes>"
            ]
          },
          "metadata": {
            "tags": [],
            "needs_background": "light"
          }
        }
      ]
    },
    {
      "cell_type": "code",
      "metadata": {
        "id": "7df9NqF_pgqh",
        "colab_type": "code",
        "colab": {}
      },
      "source": [
        "model.save(\"mnist.hdf5\")"
      ],
      "execution_count": 146,
      "outputs": []
    },
    {
      "cell_type": "code",
      "metadata": {
        "id": "4kePCgFEBgAl",
        "colab_type": "code",
        "colab": {}
      },
      "source": [
        "model.load_weights(\"mnist.hdf5\")"
      ],
      "execution_count": 147,
      "outputs": []
    },
    {
      "cell_type": "code",
      "metadata": {
        "id": "J2Fm5AAMwQtn",
        "colab_type": "code",
        "colab": {
          "base_uri": "https://localhost:8080/",
          "height": 319
        },
        "outputId": "5c887682-bcf8-4386-f252-58ac932c80bf"
      },
      "source": [
        "loaded_model = tf.keras.models.load_model(\"mnist.hdf5\")\n",
        "\n",
        "loaded_model.summary()"
      ],
      "execution_count": 148,
      "outputs": [
        {
          "output_type": "stream",
          "text": [
            "Model: \"sequential_5\"\n",
            "_________________________________________________________________\n",
            "Layer (type)                 Output Shape              Param #   \n",
            "=================================================================\n",
            "flatten_5 (Flatten)          (None, 784)               0         \n",
            "_________________________________________________________________\n",
            "dense_20 (Dense)             (None, 256)               200960    \n",
            "_________________________________________________________________\n",
            "dense_21 (Dense)             (None, 128)               32896     \n",
            "_________________________________________________________________\n",
            "dense_22 (Dense)             (None, 64)                8256      \n",
            "_________________________________________________________________\n",
            "dense_23 (Dense)             (None, 10)                650       \n",
            "=================================================================\n",
            "Total params: 242,762\n",
            "Trainable params: 242,762\n",
            "Non-trainable params: 0\n",
            "_________________________________________________________________\n"
          ],
          "name": "stdout"
        }
      ]
    },
    {
      "cell_type": "code",
      "metadata": {
        "id": "gjWKPVedx3pi",
        "colab_type": "code",
        "colab": {
          "base_uri": "https://localhost:8080/",
          "height": 34
        },
        "outputId": "e02438a6-10f3-4c73-9b40-a0acbafe8d38"
      },
      "source": [
        "xte.shape"
      ],
      "execution_count": 149,
      "outputs": [
        {
          "output_type": "execute_result",
          "data": {
            "text/plain": [
              "(10000, 28, 28)"
            ]
          },
          "metadata": {
            "tags": []
          },
          "execution_count": 149
        }
      ]
    },
    {
      "cell_type": "code",
      "metadata": {
        "id": "iEjqR8kZzYwr",
        "colab_type": "code",
        "colab": {
          "base_uri": "https://localhost:8080/",
          "height": 282
        },
        "outputId": "6d5940be-0f72-41b4-847c-bae4a789e9a5"
      },
      "source": [
        "plt.imshow(xte[199], cmap='gray')"
      ],
      "execution_count": 150,
      "outputs": [
        {
          "output_type": "execute_result",
          "data": {
            "text/plain": [
              "<matplotlib.image.AxesImage at 0x7fdf91017438>"
            ]
          },
          "metadata": {
            "tags": []
          },
          "execution_count": 150
        },
        {
          "output_type": "display_data",
          "data": {
            "image/png": "[encoded data removed]",
            "text/plain": [
              "<Figure size 432x288 with 1 Axes>"
            ]
          },
          "metadata": {
            "tags": [],
            "needs_background": "light"
          }
        }
      ]
    },
    {
      "cell_type": "code",
      "metadata": {
        "id": "8AjVwetKxX5i",
        "colab_type": "code",
        "colab": {
          "base_uri": "https://localhost:8080/",
          "height": 282
        },
        "outputId": "41454f8d-a0b2-4588-bf9f-f07775dacf04"
      },
      "source": [
        "plt.imshow(xte[832]) \n"
      ],
      "execution_count": 151,
      "outputs": [
        {
          "output_type": "execute_result",
          "data": {
            "text/plain": [
              "<matplotlib.image.AxesImage at 0x7fdf91df72e8>"
            ]
          },
          "metadata": {
            "tags": []
          },
          "execution_count": 151
        },
        {
          "output_type": "display_data",
          "data": {
            "image/png": "[encoded data removed]",
            "text/plain": [
              "<Figure size 432x288 with 1 Axes>"
            ]
          },
          "metadata": {
            "tags": [],
            "needs_background": "light"
          }
        }
      ]
    },
    {
      "cell_type": "code",
      "metadata": {
        "id": "PZ1Q-feky-9C",
        "colab_type": "code",
        "colab": {
          "base_uri": "https://localhost:8080/",
          "height": 87
        },
        "outputId": "f0652485-4634-452b-9d77-4cefde54f8b4"
      },
      "source": [
        "print(\"Predicted sign: \"+ str( \n",
        "        loaded_model.predict(xte[832].reshape(1, 28, 28, 1))))\n",
        "\n",
        "print('---------------------------------------------------------------------------')\n"
      ],
      "execution_count": 152,
      "outputs": [
        {
          "output_type": "stream",
          "text": [
            "WARNING:tensorflow:9 out of the last 11 calls to <function Model.make_predict_function.<locals>.predict_function at 0x7fdf9145c048> triggered tf.function retracing. Tracing is expensive and the excessive number of tracings could be due to (1) creating @tf.function repeatedly in a loop, (2) passing tensors with different shapes, (3) passing Python objects instead of tensors. For (1), please define your @tf.function outside of the loop. For (2), @tf.function has experimental_relax_shapes=True option that relaxes argument shapes that can avoid unnecessary retracing. For (3), please refer to https://www.tensorflow.org/tutorials/customization/performance#python_or_tensor_args and https://www.tensorflow.org/api_docs/python/tf/function for  more details.\n",
            "Predicted sign: [[0. 0. 0. 0. 0. 0. 0. 1. 0. 0.]]\n",
            "---------------------------------------------------------------------------\n"
          ],
          "name": "stdout"
        }
      ]
    },
    {
      "cell_type": "code",
      "metadata": {
        "id": "uqmA50HF1ibl",
        "colab_type": "code",
        "colab": {
          "base_uri": "https://localhost:8080/",
          "height": 34
        },
        "outputId": "16f9c0cd-f212-4d18-8fa5-67e233a30c71"
      },
      "source": [
        "print(\"Predicted Sign\" + str(loaded_model.predict_classes(xte[832].reshape(1, 28, 28, 1))))"
      ],
      "execution_count": 153,
      "outputs": [
        {
          "output_type": "stream",
          "text": [
            "Predicted Sign[7]\n"
          ],
          "name": "stdout"
        }
      ]
    },
    {
      "cell_type": "code",
      "metadata": {
        "id": "FpsiiAcY2PFV",
        "colab_type": "code",
        "colab": {
          "base_uri": "https://localhost:8080/",
          "height": 70
        },
        "outputId": "35d3cc17-7ec2-47d0-b7b9-0490767c6555"
      },
      "source": [
        "from tensorflow.keras.models import load_model\n",
        "\n",
        "import cv2\n",
        "\n",
        "import numpy as np\n",
        "\n",
        "final_model = tf.keras.models.load_model(\"mnist.hdf5\")\n",
        "\n",
        "img = cv2.imread('ss.png')\n",
        "\n",
        "img = cv2.cvtColor(img, cv2.COLOR_BGR2GRAY) \n",
        "\n",
        "img = img / 255\n",
        "\n",
        "img = cv2.resize(img,(28,28))\n",
        "\n",
        "img = np.reshape(img,[1,28, 28,1])\n",
        "\n",
        "classes = final_model.predict_classes(img)\n",
        "\n",
        "print(classes)"
      ],
      "execution_count": 154,
      "outputs": [
        {
          "output_type": "stream",
          "text": [
            "WARNING:tensorflow:8 out of the last 11 calls to <function Model.make_predict_function.<locals>.predict_function at 0x7fdf9fbc16a8> triggered tf.function retracing. Tracing is expensive and the excessive number of tracings could be due to (1) creating @tf.function repeatedly in a loop, (2) passing tensors with different shapes, (3) passing Python objects instead of tensors. For (1), please define your @tf.function outside of the loop. For (2), @tf.function has experimental_relax_shapes=True option that relaxes argument shapes that can avoid unnecessary retracing. For (3), please refer to https://www.tensorflow.org/tutorials/customization/performance#python_or_tensor_args and https://www.tensorflow.org/api_docs/python/tf/function for  more details.\n",
            "[3]\n"
          ],
          "name": "stdout"
        }
      ]
    }
  ]
}